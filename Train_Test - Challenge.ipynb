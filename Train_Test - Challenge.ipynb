{
 "cells": [
  {
   "cell_type": "markdown",
   "metadata": {},
   "source": [
    "## Train Test Frameworks\n",
    "\n",
    "The following exercise is to practice the syntax of the various functions from sklearn that split data into train and test sets. The goal of this exercise is to get familiar with these different splitting methods before engaging with the more complex activities at the end of the day. "
   ]
  },
  {
   "cell_type": "code",
   "execution_count": 1,
   "metadata": {
    "ExecuteTime": {
     "end_time": "2020-04-27T07:17:19.733929Z",
     "start_time": "2020-04-27T07:17:19.730983Z"
    }
   },
   "outputs": [],
   "source": [
    "# import numpy\n",
    "import numpy as np"
   ]
  },
  {
   "cell_type": "code",
   "execution_count": 2,
   "metadata": {
    "ExecuteTime": {
     "end_time": "2020-04-27T07:17:20.442277Z",
     "start_time": "2020-04-27T07:17:20.436036Z"
    }
   },
   "outputs": [],
   "source": [
    "X = np.random.normal(0,1,20).reshape(10,2)\n",
    "y = np.random.normal(0,1,10)"
   ]
  },
  {
   "cell_type": "markdown",
   "metadata": {},
   "source": [
    "* print X"
   ]
  },
  {
   "cell_type": "code",
   "execution_count": 3,
   "metadata": {
    "ExecuteTime": {
     "end_time": "2020-02-25T10:10:05.516072Z",
     "start_time": "2020-02-25T10:10:05.507842Z"
    }
   },
   "outputs": [
    {
     "data": {
      "text/plain": [
       "array([[ 1.3877933 ,  1.60384871],\n",
       "       [ 0.60139115,  0.20210125],\n",
       "       [-0.88720544,  0.0981454 ],\n",
       "       [ 1.03326459,  1.15454856],\n",
       "       [-0.40488078, -0.54574946],\n",
       "       [-1.43722709,  0.57815935],\n",
       "       [-0.99470768,  0.1400356 ],\n",
       "       [ 1.31046234,  1.38165797],\n",
       "       [ 1.07974144,  0.47131451],\n",
       "       [-0.49312581, -0.22751545]])"
      ]
     },
     "execution_count": 3,
     "metadata": {},
     "output_type": "execute_result"
    }
   ],
   "source": [
    "X"
   ]
  },
  {
   "cell_type": "markdown",
   "metadata": {},
   "source": [
    "* print y"
   ]
  },
  {
   "cell_type": "code",
   "execution_count": 4,
   "metadata": {
    "ExecuteTime": {
     "end_time": "2020-02-25T10:10:06.238921Z",
     "start_time": "2020-02-25T10:10:06.228202Z"
    }
   },
   "outputs": [
    {
     "data": {
      "text/plain": [
       "array([-1.26942355,  1.31116259, -0.98547213,  1.06533484, -0.47688888,\n",
       "        0.8126839 , -1.15373361, -0.13222034, -1.99881119,  0.93899591])"
      ]
     },
     "execution_count": 4,
     "metadata": {},
     "output_type": "execute_result"
    }
   ],
   "source": [
    "y"
   ]
  },
  {
   "cell_type": "markdown",
   "metadata": {},
   "source": [
    "_____________________________\n",
    "### Holdout split"
   ]
  },
  {
   "cell_type": "markdown",
   "metadata": {},
   "source": [
    "* import the **train_test_split** function from sklearn"
   ]
  },
  {
   "cell_type": "code",
   "execution_count": 5,
   "metadata": {
    "ExecuteTime": {
     "end_time": "2020-04-27T07:19:36.229754Z",
     "start_time": "2020-04-27T07:19:36.224380Z"
    }
   },
   "outputs": [],
   "source": [
    "import numpy as np\n",
    "from sklearn.model_selection import train_test_split"
   ]
  },
  {
   "cell_type": "markdown",
   "metadata": {},
   "source": [
    "* split the data to train set and test set, use a 70:30 ratio or a 80:20 ratio."
   ]
  },
  {
   "cell_type": "code",
   "execution_count": 6,
   "metadata": {
    "ExecuteTime": {
     "end_time": "2020-04-27T07:19:36.690033Z",
     "start_time": "2020-04-27T07:19:36.679323Z"
    }
   },
   "outputs": [
    {
     "name": "stdout",
     "output_type": "stream",
     "text": [
      "Training features:\n",
      " [[-0.01782158  0.32332653]\n",
      " [-0.29224817  1.51231378]\n",
      " [-2.80072587 -1.1873131 ]\n",
      " [ 0.82150614 -1.12522936]\n",
      " [ 1.47478955  0.12038937]\n",
      " [ 0.38831536  0.26161022]\n",
      " [ 1.37283032 -0.33877649]]\n",
      "Testing features:\n",
      " [[-0.66424461 -1.68533485]\n",
      " [-0.28539027 -1.25501525]\n",
      " [ 1.09339799 -0.20501463]]\n",
      "Training labels:\n",
      " [ 1.19361929  0.67038402  0.28686753 -0.12074403 -0.53543687 -0.77438016\n",
      " -1.41391759]\n",
      "Testing labels:\n",
      " [0.58888824 1.19849894 1.03566103]\n"
     ]
    }
   ],
   "source": [
    "import numpy as np\n",
    "from sklearn.model_selection import train_test_split\n",
    "\n",
    "# Generate the data\n",
    "X = np.random.normal(0, 1, 20).reshape(10, 2)\n",
    "y = np.random.normal(0, 1, 10)\n",
    "\n",
    "# Option 1: 70:30 split\n",
    "X_train, X_test, y_train, y_test = train_test_split(X, y, test_size=0.30, random_state=42)\n",
    "\n",
    "# Option 2: 80:20 split\n",
    "# X_train, X_test, y_train, y_test = train_test_split(X, y, test_size=0.20, random_state=42)\n",
    "\n",
    "print(\"Training features:\\n\", X_train)\n",
    "print(\"Testing features:\\n\", X_test)\n",
    "print(\"Training labels:\\n\", y_train)\n",
    "print(\"Testing labels:\\n\", y_test)"
   ]
  },
  {
   "cell_type": "markdown",
   "metadata": {},
   "source": [
    "* print X_train"
   ]
  },
  {
   "cell_type": "code",
   "execution_count": 7,
   "metadata": {
    "ExecuteTime": {
     "end_time": "2020-04-27T07:19:37.410555Z",
     "start_time": "2020-04-27T07:19:37.384346Z"
    }
   },
   "outputs": [
    {
     "data": {
      "text/plain": [
       "array([[-0.01782158,  0.32332653],\n",
       "       [-0.28539027, -1.25501525],\n",
       "       [-2.80072587, -1.1873131 ],\n",
       "       [ 0.38831536,  0.26161022],\n",
       "       [ 1.47478955,  0.12038937],\n",
       "       [ 1.09339799, -0.20501463],\n",
       "       [ 1.37283032, -0.33877649],\n",
       "       [-0.29224817,  1.51231378],\n",
       "       [-0.66424461, -1.68533485],\n",
       "       [ 0.82150614, -1.12522936]])"
      ]
     },
     "execution_count": 7,
     "metadata": {},
     "output_type": "execute_result"
    }
   ],
   "source": [
    "X"
   ]
  },
  {
   "cell_type": "markdown",
   "metadata": {},
   "source": [
    "* split the data again but now with the parameter shuffle = False"
   ]
  },
  {
   "cell_type": "code",
   "execution_count": 8,
   "metadata": {
    "ExecuteTime": {
     "end_time": "2020-04-27T07:19:38.392368Z",
     "start_time": "2020-04-27T07:19:38.387406Z"
    }
   },
   "outputs": [
    {
     "name": "stdout",
     "output_type": "stream",
     "text": [
      "Training features:\n",
      " [[-1.06906527 -2.03954461]\n",
      " [ 0.59095945 -1.37429794]\n",
      " [ 0.75856288 -1.80475041]\n",
      " [ 0.58207566  0.29801092]\n",
      " [ 0.34396212  0.84798659]\n",
      " [-0.02543102  0.49573413]\n",
      " [ 0.97797957  0.02245508]]\n",
      "Testing features:\n",
      " [[ 0.1515946   1.7851486 ]\n",
      " [-0.48779753 -0.90112864]\n",
      " [ 1.73852486  1.70896164]]\n",
      "Training labels:\n",
      " [-0.63639292  0.32383032  0.28187436 -0.43502837  0.46266739 -0.87881314\n",
      "  1.48706418]\n",
      "Testing labels:\n",
      " [-1.60129494 -1.12882591 -0.64952823]\n"
     ]
    }
   ],
   "source": [
    "import numpy as np\n",
    "from sklearn.model_selection import train_test_split\n",
    "\n",
    "# Generate the data\n",
    "X = np.random.normal(0, 1, 20).reshape(10, 2)\n",
    "y = np.random.normal(0, 1, 10)\n",
    "\n",
    "# Option 1: 70:30 split without shuffling\n",
    "X_train, X_test, y_train, y_test = train_test_split(X, y, test_size=0.30, random_state=42, shuffle=False)\n",
    "\n",
    "# Option 2: 80:20 split without shuffling\n",
    "# X_train, X_test, y_train, y_test = train_test_split(X, y, test_size=0.20, random_state=42, shuffle=False)\n",
    "\n",
    "print(\"Training features:\\n\", X_train)\n",
    "print(\"Testing features:\\n\", X_test)\n",
    "print(\"Training labels:\\n\", y_train)\n",
    "print(\"Testing labels:\\n\", y_test)"
   ]
  },
  {
   "cell_type": "markdown",
   "metadata": {},
   "source": [
    "* print X_train"
   ]
  },
  {
   "cell_type": "code",
   "execution_count": 9,
   "metadata": {
    "ExecuteTime": {
     "end_time": "2020-04-27T07:19:56.965372Z",
     "start_time": "2020-04-27T07:19:56.954696Z"
    }
   },
   "outputs": [
    {
     "name": "stdout",
     "output_type": "stream",
     "text": [
      "Training features:\n",
      " [[-1.87752922  0.18259681]\n",
      " [-1.78290684  0.1338984 ]\n",
      " [-0.1159386  -0.7058418 ]\n",
      " [ 0.40144568  0.4858517 ]\n",
      " [ 0.90469406  0.12726077]\n",
      " [-0.51398259  0.28052366]\n",
      " [-1.18347583 -1.04218992]]\n"
     ]
    }
   ],
   "source": [
    "import numpy as np\n",
    "from sklearn.model_selection import train_test_split\n",
    "\n",
    "# Generate the data\n",
    "X = np.random.normal(0, 1, 20).reshape(10, 2)\n",
    "y = np.random.normal(0, 1, 10)\n",
    "\n",
    "# Split the data without shuffling (70:30 split)\n",
    "X_train, X_test, y_train, y_test = train_test_split(X, y, test_size=0.30, random_state=42, shuffle=False)\n",
    "\n",
    "# Print the training features\n",
    "print(\"Training features:\\n\", X_train)"
   ]
  },
  {
   "cell_type": "markdown",
   "metadata": {},
   "source": [
    "* print the shape of X_train and X_test"
   ]
  },
  {
   "cell_type": "code",
   "execution_count": 10,
   "metadata": {},
   "outputs": [
    {
     "name": "stdout",
     "output_type": "stream",
     "text": [
      "Shape of X_train: (7, 2)\n",
      "Shape of X_test: (3, 2)\n"
     ]
    }
   ],
   "source": [
    "import numpy as np\n",
    "from sklearn.model_selection import train_test_split\n",
    "\n",
    "# Generate the data\n",
    "X = np.random.normal(0, 1, 20).reshape(10, 2)\n",
    "y = np.random.normal(0, 1, 10)\n",
    "\n",
    "# Split the data without shuffling (70:30 split)\n",
    "X_train, X_test, y_train, y_test = train_test_split(X, y, test_size=0.30, random_state=42, shuffle=False)\n",
    "\n",
    "# Print the shapes of the training and testing feature sets\n",
    "print(\"Shape of X_train:\", X_train.shape)\n",
    "print(\"Shape of X_test:\", X_test.shape)"
   ]
  },
  {
   "cell_type": "code",
   "execution_count": null,
   "metadata": {},
   "outputs": [],
   "source": []
  },
  {
   "cell_type": "markdown",
   "metadata": {},
   "source": [
    "_________________________________\n",
    "### K-fold split "
   ]
  },
  {
   "cell_type": "markdown",
   "metadata": {},
   "source": [
    "* import the **KFold** function from sklearn"
   ]
  },
  {
   "cell_type": "code",
   "execution_count": 11,
   "metadata": {
    "ExecuteTime": {
     "end_time": "2020-04-27T07:20:20.040524Z",
     "start_time": "2020-04-27T07:20:20.034774Z"
    }
   },
   "outputs": [],
   "source": [
    "from sklearn.model_selection import KFold"
   ]
  },
  {
   "cell_type": "markdown",
   "metadata": {},
   "source": [
    "* instantiate KFold with k=5"
   ]
  },
  {
   "cell_type": "code",
   "execution_count": 12,
   "metadata": {
    "ExecuteTime": {
     "end_time": "2020-04-27T07:21:02.886273Z",
     "start_time": "2020-04-27T07:21:02.882100Z"
    }
   },
   "outputs": [
    {
     "name": "stdout",
     "output_type": "stream",
     "text": [
      "Training indices: [0 2 3 4 5 6 7 9]\n",
      "Testing indices: [1 8]\n",
      "X_train:\n",
      " [[ 0.66270781  0.81474124]\n",
      " [ 0.58573283 -0.02768514]\n",
      " [ 1.17023947 -0.62029072]\n",
      " [-0.71046623 -1.48307451]\n",
      " [ 0.36847152 -1.44181645]\n",
      " [ 1.17773179 -0.39835878]\n",
      " [-0.56702026  1.49261945]\n",
      " [-1.45197908 -0.65124083]]\n",
      "X_test:\n",
      " [[ 0.53636202 -0.1452261 ]\n",
      " [ 1.58861765 -0.04236291]]\n",
      "y_train:\n",
      " [ 0.10096713 -1.90504676  1.29843983 -1.06703727 -0.12571111 -0.10795595\n",
      "  0.10205291  0.68410502]\n",
      "y_test:\n",
      " [-0.99972414 -0.18816473]\n",
      "------------------------------\n",
      "Training indices: [1 2 3 4 6 7 8 9]\n",
      "Testing indices: [0 5]\n",
      "X_train:\n",
      " [[ 0.53636202 -0.1452261 ]\n",
      " [ 0.58573283 -0.02768514]\n",
      " [ 1.17023947 -0.62029072]\n",
      " [-0.71046623 -1.48307451]\n",
      " [ 1.17773179 -0.39835878]\n",
      " [-0.56702026  1.49261945]\n",
      " [ 1.58861765 -0.04236291]\n",
      " [-1.45197908 -0.65124083]]\n",
      "X_test:\n",
      " [[ 0.66270781  0.81474124]\n",
      " [ 0.36847152 -1.44181645]]\n",
      "y_train:\n",
      " [-0.99972414 -1.90504676  1.29843983 -1.06703727 -0.10795595  0.10205291\n",
      " -0.18816473  0.68410502]\n",
      "y_test:\n",
      " [ 0.10096713 -0.12571111]\n",
      "------------------------------\n",
      "Training indices: [0 1 3 4 5 6 8 9]\n",
      "Testing indices: [2 7]\n",
      "X_train:\n",
      " [[ 0.66270781  0.81474124]\n",
      " [ 0.53636202 -0.1452261 ]\n",
      " [ 1.17023947 -0.62029072]\n",
      " [-0.71046623 -1.48307451]\n",
      " [ 0.36847152 -1.44181645]\n",
      " [ 1.17773179 -0.39835878]\n",
      " [ 1.58861765 -0.04236291]\n",
      " [-1.45197908 -0.65124083]]\n",
      "X_test:\n",
      " [[ 0.58573283 -0.02768514]\n",
      " [-0.56702026  1.49261945]]\n",
      "y_train:\n",
      " [ 0.10096713 -0.99972414  1.29843983 -1.06703727 -0.12571111 -0.10795595\n",
      " -0.18816473  0.68410502]\n",
      "y_test:\n",
      " [-1.90504676  0.10205291]\n",
      "------------------------------\n",
      "Training indices: [0 1 2 3 5 6 7 8]\n",
      "Testing indices: [4 9]\n",
      "X_train:\n",
      " [[ 0.66270781  0.81474124]\n",
      " [ 0.53636202 -0.1452261 ]\n",
      " [ 0.58573283 -0.02768514]\n",
      " [ 1.17023947 -0.62029072]\n",
      " [ 0.36847152 -1.44181645]\n",
      " [ 1.17773179 -0.39835878]\n",
      " [-0.56702026  1.49261945]\n",
      " [ 1.58861765 -0.04236291]]\n",
      "X_test:\n",
      " [[-0.71046623 -1.48307451]\n",
      " [-1.45197908 -0.65124083]]\n",
      "y_train:\n",
      " [ 0.10096713 -0.99972414 -1.90504676  1.29843983 -0.12571111 -0.10795595\n",
      "  0.10205291 -0.18816473]\n",
      "y_test:\n",
      " [-1.06703727  0.68410502]\n",
      "------------------------------\n",
      "Training indices: [0 1 2 4 5 7 8 9]\n",
      "Testing indices: [3 6]\n",
      "X_train:\n",
      " [[ 0.66270781  0.81474124]\n",
      " [ 0.53636202 -0.1452261 ]\n",
      " [ 0.58573283 -0.02768514]\n",
      " [-0.71046623 -1.48307451]\n",
      " [ 0.36847152 -1.44181645]\n",
      " [-0.56702026  1.49261945]\n",
      " [ 1.58861765 -0.04236291]\n",
      " [-1.45197908 -0.65124083]]\n",
      "X_test:\n",
      " [[ 1.17023947 -0.62029072]\n",
      " [ 1.17773179 -0.39835878]]\n",
      "y_train:\n",
      " [ 0.10096713 -0.99972414 -1.90504676 -1.06703727 -0.12571111  0.10205291\n",
      " -0.18816473  0.68410502]\n",
      "y_test:\n",
      " [ 1.29843983 -0.10795595]\n",
      "------------------------------\n"
     ]
    }
   ],
   "source": [
    "from sklearn.model_selection import KFold\n",
    "\n",
    "# Instantiate KFold with k=5\n",
    "kf = KFold(n_splits=5, shuffle=True, random_state=42)\n",
    "\n",
    "# Example data\n",
    "X = np.random.normal(0, 1, 20).reshape(10, 2)\n",
    "y = np.random.normal(0, 1, 10)\n",
    "\n",
    "# Apply KFold\n",
    "for train_index, test_index in kf.split(X):\n",
    "    X_train, X_test = X[train_index], X[test_index]\n",
    "    y_train, y_test = y[train_index], y[test_index]\n",
    "    print(\"Training indices:\", train_index)\n",
    "    print(\"Testing indices:\", test_index)\n",
    "    print(\"X_train:\\n\", X_train)\n",
    "    print(\"X_test:\\n\", X_test)\n",
    "    print(\"y_train:\\n\", y_train)\n",
    "    print(\"y_test:\\n\", y_test)\n",
    "    print(\"-\" * 30)"
   ]
  },
  {
   "cell_type": "markdown",
   "metadata": {},
   "source": [
    "* iterate over train_index and test_index in kf.split(X) and print them"
   ]
  },
  {
   "cell_type": "code",
   "execution_count": 13,
   "metadata": {
    "ExecuteTime": {
     "end_time": "2020-04-27T07:21:30.570119Z",
     "start_time": "2020-04-27T07:21:30.560118Z"
    }
   },
   "outputs": [
    {
     "name": "stdout",
     "output_type": "stream",
     "text": [
      "Fold 1\n",
      "Training indices: [0 2 3 4 5 6 7 9]\n",
      "Testing indices: [1 8]\n",
      "\n",
      "Fold 2\n",
      "Training indices: [1 2 3 4 6 7 8 9]\n",
      "Testing indices: [0 5]\n",
      "\n",
      "Fold 3\n",
      "Training indices: [0 1 3 4 5 6 8 9]\n",
      "Testing indices: [2 7]\n",
      "\n",
      "Fold 4\n",
      "Training indices: [0 1 2 3 5 6 7 8]\n",
      "Testing indices: [4 9]\n",
      "\n",
      "Fold 5\n",
      "Training indices: [0 1 2 4 5 7 8 9]\n",
      "Testing indices: [3 6]\n",
      "\n"
     ]
    }
   ],
   "source": [
    "from sklearn.model_selection import KFold\n",
    "import numpy as np\n",
    "\n",
    "# Instantiate KFold with k=5\n",
    "kf = KFold(n_splits=5, shuffle=True, random_state=42)\n",
    "\n",
    "# Example data\n",
    "X = np.random.normal(0, 1, 20).reshape(10, 2)\n",
    "y = np.random.normal(0, 1, 10)\n",
    "\n",
    "# Iterate over the KFold splits\n",
    "for fold, (train_index, test_index) in enumerate(kf.split(X), start=1):\n",
    "    print(f\"Fold {fold}\")\n",
    "    print(\"Training indices:\", train_index)\n",
    "    print(\"Testing indices:\", test_index)\n",
    "    print()"
   ]
  },
  {
   "cell_type": "markdown",
   "metadata": {},
   "source": [
    "* instantiate KFold with k=5 and shuffle=True"
   ]
  },
  {
   "cell_type": "code",
   "execution_count": 14,
   "metadata": {
    "ExecuteTime": {
     "end_time": "2020-04-27T07:21:52.693825Z",
     "start_time": "2020-04-27T07:21:52.687089Z"
    }
   },
   "outputs": [
    {
     "name": "stdout",
     "output_type": "stream",
     "text": [
      "Fold 1\n",
      "Training indices: [0 2 3 4 5 6 7 9]\n",
      "Testing indices: [1 8]\n",
      "\n",
      "Fold 2\n",
      "Training indices: [1 2 3 4 6 7 8 9]\n",
      "Testing indices: [0 5]\n",
      "\n",
      "Fold 3\n",
      "Training indices: [0 1 3 4 5 6 8 9]\n",
      "Testing indices: [2 7]\n",
      "\n",
      "Fold 4\n",
      "Training indices: [0 1 2 3 5 6 7 8]\n",
      "Testing indices: [4 9]\n",
      "\n",
      "Fold 5\n",
      "Training indices: [0 1 2 4 5 7 8 9]\n",
      "Testing indices: [3 6]\n",
      "\n"
     ]
    }
   ],
   "source": [
    "from sklearn.model_selection import KFold\n",
    "import numpy as np\n",
    "\n",
    "# Instantiate KFold with k=5 and shuffle=True\n",
    "kf = KFold(n_splits=5, shuffle=True, random_state=42)\n",
    "\n",
    "# Example data\n",
    "X = np.random.normal(0, 1, 20).reshape(10, 2)\n",
    "y = np.random.normal(0, 1, 10)\n",
    "\n",
    "# Iterate over the KFold splits\n",
    "for fold, (train_index, test_index) in enumerate(kf.split(X), start=1):\n",
    "    print(f\"Fold {fold}\")\n",
    "    print(\"Training indices:\", train_index)\n",
    "    print(\"Testing indices:\", test_index)\n",
    "    print()"
   ]
  },
  {
   "cell_type": "markdown",
   "metadata": {},
   "source": [
    "* iterate over train_index and test_index in kf.split(X) and print them"
   ]
  },
  {
   "cell_type": "code",
   "execution_count": 15,
   "metadata": {
    "ExecuteTime": {
     "end_time": "2020-02-25T10:19:37.219179Z",
     "start_time": "2020-02-25T10:19:37.210814Z"
    }
   },
   "outputs": [
    {
     "name": "stdout",
     "output_type": "stream",
     "text": [
      "Fold 1\n",
      "Training indices: [0 2 3 4 5 6 7 9]\n",
      "Testing indices: [1 8]\n",
      "\n",
      "Fold 2\n",
      "Training indices: [1 2 3 4 6 7 8 9]\n",
      "Testing indices: [0 5]\n",
      "\n",
      "Fold 3\n",
      "Training indices: [0 1 3 4 5 6 8 9]\n",
      "Testing indices: [2 7]\n",
      "\n",
      "Fold 4\n",
      "Training indices: [0 1 2 3 5 6 7 8]\n",
      "Testing indices: [4 9]\n",
      "\n",
      "Fold 5\n",
      "Training indices: [0 1 2 4 5 7 8 9]\n",
      "Testing indices: [3 6]\n",
      "\n"
     ]
    }
   ],
   "source": [
    "from sklearn.model_selection import KFold\n",
    "import numpy as np\n",
    "\n",
    "# Instantiate KFold with k=5 and shuffle=True\n",
    "kf = KFold(n_splits=5, shuffle=True, random_state=42)\n",
    "\n",
    "# Example data\n",
    "X = np.random.normal(0, 1, 20).reshape(10, 2)\n",
    "y = np.random.normal(0, 1, 10)\n",
    "\n",
    "# Iterate over the KFold splits and print indices\n",
    "for fold, (train_index, test_index) in enumerate(kf.split(X), start=1):\n",
    "    print(f\"Fold {fold}\")\n",
    "    print(\"Training indices:\", train_index)\n",
    "    print(\"Testing indices:\", test_index)\n",
    "    print()"
   ]
  },
  {
   "cell_type": "code",
   "execution_count": null,
   "metadata": {},
   "outputs": [],
   "source": []
  },
  {
   "cell_type": "markdown",
   "metadata": {
    "ExecuteTime": {
     "end_time": "2020-02-25T10:20:50.997776Z",
     "start_time": "2020-02-25T10:20:50.991967Z"
    }
   },
   "source": [
    "_______________________________________\n",
    "### Leave-One-Out split\n",
    "This is a similar technique to the Leave-p-out in the previous readings, with p=1. Each observation is used as test set separately.\n",
    "- This is a popular method for tiny datasets.\n",
    "- It takes a lot of time with bigger datasets and can lead to overfitting on a final model."
   ]
  },
  {
   "cell_type": "code",
   "execution_count": null,
   "metadata": {},
   "outputs": [],
   "source": []
  },
  {
   "cell_type": "markdown",
   "metadata": {},
   "source": [
    "* import the **LeaveOneOut** function from sklearn"
   ]
  },
  {
   "cell_type": "code",
   "execution_count": 16,
   "metadata": {
    "ExecuteTime": {
     "end_time": "2020-04-27T07:22:57.562338Z",
     "start_time": "2020-04-27T07:22:57.557038Z"
    }
   },
   "outputs": [],
   "source": [
    "from sklearn.model_selection import LeaveOneOut"
   ]
  },
  {
   "cell_type": "markdown",
   "metadata": {},
   "source": [
    "* instantiate LeaveOneOut"
   ]
  },
  {
   "cell_type": "code",
   "execution_count": 17,
   "metadata": {
    "ExecuteTime": {
     "end_time": "2020-04-27T07:22:58.073776Z",
     "start_time": "2020-04-27T07:22:58.069381Z"
    }
   },
   "outputs": [
    {
     "name": "stdout",
     "output_type": "stream",
     "text": [
      "Training indices: [1 2 3 4 5 6 7 8 9]\n",
      "Testing indices: [0]\n",
      "\n",
      "Training indices: [0 2 3 4 5 6 7 8 9]\n",
      "Testing indices: [1]\n",
      "\n",
      "Training indices: [0 1 3 4 5 6 7 8 9]\n",
      "Testing indices: [2]\n",
      "\n",
      "Training indices: [0 1 2 4 5 6 7 8 9]\n",
      "Testing indices: [3]\n",
      "\n",
      "Training indices: [0 1 2 3 5 6 7 8 9]\n",
      "Testing indices: [4]\n",
      "\n",
      "Training indices: [0 1 2 3 4 6 7 8 9]\n",
      "Testing indices: [5]\n",
      "\n",
      "Training indices: [0 1 2 3 4 5 7 8 9]\n",
      "Testing indices: [6]\n",
      "\n",
      "Training indices: [0 1 2 3 4 5 6 8 9]\n",
      "Testing indices: [7]\n",
      "\n",
      "Training indices: [0 1 2 3 4 5 6 7 9]\n",
      "Testing indices: [8]\n",
      "\n",
      "Training indices: [0 1 2 3 4 5 6 7 8]\n",
      "Testing indices: [9]\n",
      "\n"
     ]
    }
   ],
   "source": [
    "import numpy as np\n",
    "from sklearn.model_selection import LeaveOneOut\n",
    "\n",
    "# Instantiate LeaveOneOut\n",
    "loo = LeaveOneOut()\n",
    "\n",
    "# Example data\n",
    "X = np.random.normal(0, 1, 20).reshape(10, 2)\n",
    "y = np.random.normal(0, 1, 10)\n",
    "\n",
    "# Iterate over the LeaveOneOut splits\n",
    "for train_index, test_index in loo.split(X):\n",
    "    print(\"Training indices:\", train_index)\n",
    "    print(\"Testing indices:\", test_index)\n",
    "    print()"
   ]
  },
  {
   "cell_type": "markdown",
   "metadata": {},
   "source": [
    "* iterate over train_index and test_index in loo.split(X) and print them"
   ]
  },
  {
   "cell_type": "code",
   "execution_count": 18,
   "metadata": {
    "ExecuteTime": {
     "end_time": "2020-04-27T07:23:15.893291Z",
     "start_time": "2020-04-27T07:23:15.882373Z"
    }
   },
   "outputs": [
    {
     "name": "stdout",
     "output_type": "stream",
     "text": [
      "Training indices: [1 2 3 4 5 6 7 8 9]\n",
      "Testing indices: [0]\n",
      "\n",
      "Training indices: [0 2 3 4 5 6 7 8 9]\n",
      "Testing indices: [1]\n",
      "\n",
      "Training indices: [0 1 3 4 5 6 7 8 9]\n",
      "Testing indices: [2]\n",
      "\n",
      "Training indices: [0 1 2 4 5 6 7 8 9]\n",
      "Testing indices: [3]\n",
      "\n",
      "Training indices: [0 1 2 3 5 6 7 8 9]\n",
      "Testing indices: [4]\n",
      "\n",
      "Training indices: [0 1 2 3 4 6 7 8 9]\n",
      "Testing indices: [5]\n",
      "\n",
      "Training indices: [0 1 2 3 4 5 7 8 9]\n",
      "Testing indices: [6]\n",
      "\n",
      "Training indices: [0 1 2 3 4 5 6 8 9]\n",
      "Testing indices: [7]\n",
      "\n",
      "Training indices: [0 1 2 3 4 5 6 7 9]\n",
      "Testing indices: [8]\n",
      "\n",
      "Training indices: [0 1 2 3 4 5 6 7 8]\n",
      "Testing indices: [9]\n",
      "\n"
     ]
    }
   ],
   "source": [
    "import numpy as np\n",
    "from sklearn.model_selection import LeaveOneOut\n",
    "\n",
    "# Instantiate LeaveOneOut\n",
    "loo = LeaveOneOut()\n",
    "\n",
    "# Example data\n",
    "X = np.random.normal(0, 1, 20).reshape(10, 2)\n",
    "y = np.random.normal(0, 1, 10)\n",
    "\n",
    "# Iterate over the LeaveOneOut splits and print indices\n",
    "for train_index, test_index in loo.split(X):\n",
    "    print(\"Training indices:\", train_index)\n",
    "    print(\"Testing indices:\", test_index)\n",
    "    print()"
   ]
  },
  {
   "cell_type": "code",
   "execution_count": null,
   "metadata": {},
   "outputs": [],
   "source": []
  },
  {
   "cell_type": "markdown",
   "metadata": {
    "ExecuteTime": {
     "end_time": "2020-04-27T07:23:32.091854Z",
     "start_time": "2020-04-27T07:23:32.084557Z"
    }
   },
   "source": [
    "* print the number of splits"
   ]
  },
  {
   "cell_type": "code",
   "execution_count": 19,
   "metadata": {
    "ExecuteTime": {
     "end_time": "2020-04-27T07:23:44.088113Z",
     "start_time": "2020-04-27T07:23:44.079901Z"
    }
   },
   "outputs": [
    {
     "name": "stdout",
     "output_type": "stream",
     "text": [
      "Number of splits: 10\n"
     ]
    }
   ],
   "source": [
    "import numpy as np\n",
    "from sklearn.model_selection import LeaveOneOut\n",
    "\n",
    "# Instantiate LeaveOneOut\n",
    "loo = LeaveOneOut()\n",
    "\n",
    "# Example data\n",
    "X = np.random.normal(0, 1, 20).reshape(10, 2)\n",
    "y = np.random.normal(0, 1, 10)\n",
    "\n",
    "# Print the number of splits\n",
    "n_splits = loo.get_n_splits(X)\n",
    "print(\"Number of splits:\", n_splits)"
   ]
  },
  {
   "cell_type": "code",
   "execution_count": null,
   "metadata": {},
   "outputs": [],
   "source": []
  }
 ],
 "metadata": {
  "kernelspec": {
   "display_name": "THE_ONE",
   "language": "python",
   "name": "the_one"
  },
  "language_info": {
   "codemirror_mode": {
    "name": "ipython",
    "version": 3
   },
   "file_extension": ".py",
   "mimetype": "text/x-python",
   "name": "python",
   "nbconvert_exporter": "python",
   "pygments_lexer": "ipython3",
   "version": "3.11.7"
  },
  "toc": {
   "base_numbering": 1,
   "nav_menu": {},
   "number_sections": true,
   "sideBar": true,
   "skip_h1_title": false,
   "title_cell": "Table of Contents",
   "title_sidebar": "Contents",
   "toc_cell": false,
   "toc_position": {},
   "toc_section_display": true,
   "toc_window_display": false
  },
  "varInspector": {
   "cols": {
    "lenName": 16,
    "lenType": 16,
    "lenVar": 40
   },
   "kernels_config": {
    "python": {
     "delete_cmd_postfix": "",
     "delete_cmd_prefix": "del ",
     "library": "var_list.py",
     "varRefreshCmd": "print(var_dic_list())"
    },
    "r": {
     "delete_cmd_postfix": ") ",
     "delete_cmd_prefix": "rm(",
     "library": "var_list.r",
     "varRefreshCmd": "cat(var_dic_list()) "
    }
   },
   "types_to_exclude": [
    "module",
    "function",
    "builtin_function_or_method",
    "instance",
    "_Feature"
   ],
   "window_display": false
  }
 },
 "nbformat": 4,
 "nbformat_minor": 4
}
